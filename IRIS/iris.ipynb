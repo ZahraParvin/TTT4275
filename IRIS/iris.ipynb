{
  "nbformat": 4,
  "nbformat_minor": 0,
  "metadata": {
    "colab": {
      "provenance": [],
      "include_colab_link": true
    },
    "kernelspec": {
      "name": "python3",
      "display_name": "Python 3"
    },
    "language_info": {
      "name": "python"
    }
  },
  "cells": [
    {
      "cell_type": "markdown",
      "metadata": {
        "id": "view-in-github",
        "colab_type": "text"
      },
      "source": [
        "<a href=\"https://colab.research.google.com/github/ZahraParvin/TTT4275/blob/main/iris.ipynb\" target=\"_parent\"><img src=\"https://colab.research.google.com/assets/colab-badge.svg\" alt=\"Open In Colab\"/></a>"
      ]
    },
    {
      "cell_type": "code",
      "execution_count": null,
      "metadata": {
        "id": "cVPUHsjr5TXg"
      },
      "outputs": [],
      "source": [
        "import numpy as np\n",
        "import matplotlib.pyplot as plt\n",
        "from sklearn import metrics\n",
        "import seaborn as sns"
      ]
    },
    {
      "cell_type": "code",
      "source": [
        "class_mapping = {\n",
        "    'Iris-setosa': np.array([1, 0, 0]),\n",
        "    'Iris-versicolor': np.array([0, 1, 0]),\n",
        "    'Iris-virginica': np.array([0, 0, 1])\n",
        "}"
      ],
      "metadata": {
        "id": "VMHLFOxtNXJv"
      },
      "execution_count": null,
      "outputs": []
    },
    {
      "cell_type": "code",
      "source": [
        "file_path = 'Iris_TTT4275/iris.data'\n",
        "\n",
        "def import_data():\n",
        "    feature_list = []\n",
        "    species_list = []\n",
        "    with open(file_path, 'r') as data:\n",
        "        rows = data.readlines()\n",
        "        for row in rows:\n",
        "            row_values = row.strip().split(',')\n",
        "            features = [float(i) for i in row_values[:-1]]\n",
        "            species = row_values[-1]\n",
        "            feature_list.append(features)\n",
        "            features.append(1.0)\n",
        "            species_list.append(class_mapping.get(species))\n",
        "    feature_array = np.stack(feature_list)\n",
        "    species_array = np.stack(species_list)\n",
        "    return feature_array, species_array"
      ],
      "metadata": {
        "id": "RAvsMiqq5jiN"
      },
      "execution_count": null,
      "outputs": []
    },
    {
      "cell_type": "code",
      "source": [
        "#Predicttion of each class returned as a vector\n",
        "def squashing_function(iris_input, W):\n",
        "    exponent = np.array([ np.exp(-(np.matmul(W, i))) for i in iris_input])\n",
        "    sigmoid = 1/(1 + exponent)\n",
        "    return sigmoid"
      ],
      "metadata": {
        "id": "xkMKHuQF6uGg"
      },
      "execution_count": null,
      "outputs": []
    },
    {
      "cell_type": "code",
      "source": [
        "#Minimum Square Error function\n",
        "def mse(g_k, t_k):\n",
        "    error = sum((g_k-t_k)**2)/2\n",
        "    return error"
      ],
      "metadata": {
        "id": "QFchpHj-9Ene"
      },
      "execution_count": null,
      "outputs": []
    },
    {
      "cell_type": "code",
      "source": [
        "# Weight Matrix\n",
        "def weight(previous, alpha, grad_mse):\n",
        "    W = previous - alpha*grad_mse.T\n",
        "    return W"
      ],
      "metadata": {
        "id": "1KV4fn059GmL"
      },
      "execution_count": null,
      "outputs": []
    },
    {
      "cell_type": "code",
      "source": [
        "#Gradient MSE\n",
        "def delta_W_mse(g_k, t_k, iris_input):\n",
        "\n",
        "    delta_zk_g = g_k * (1 - g_k)\n",
        "    delta_gk_mse = g_k - t_k\n",
        "\n",
        "    grad = np.dot(iris_input.T, delta_gk_mse * delta_zk_g)\n",
        "\n",
        "    return grad"
      ],
      "metadata": {
        "id": "UIiybqj-9JYd"
      },
      "execution_count": null,
      "outputs": []
    },
    {
      "cell_type": "code",
      "source": [
        "#Training linear classifier\n",
        "def linear_classifier(samples,t_k , iterations=1000,alpha=0.01):\n",
        "\n",
        "    mse_values = []\n",
        "    W = np.zeros((3 , samples.shape[1]))\n",
        "    for i in range(iterations):\n",
        "      g_k = squashing_function(samples, W)\n",
        "      grad_mse = delta_W_mse(g_k,t_k,samples)\n",
        "      W = weight(W, alpha, grad_mse)\n",
        "      mse_values.append(mse(g_k, t_k))\n",
        "\n",
        "    return mse_values, W\n"
      ],
      "metadata": {
        "id": "slHs_zXB9LvZ"
      },
      "execution_count": null,
      "outputs": []
    },
    {
      "cell_type": "code",
      "source": [
        "def predict(X, W):\n",
        "    probabilities = squashing_function(X, W)\n",
        "    predictions = np.argmax(probabilities, axis=1)\n",
        "    return predictions"
      ],
      "metadata": {
        "id": "GuJO4vMXioCl"
      },
      "execution_count": null,
      "outputs": []
    },
    {
      "cell_type": "code",
      "source": [
        "def error_rate(confusion_matrix):\n",
        "  pp_sum = 0\n",
        "  for i in range(len(confusion_matrix)):\n",
        "    pp_sum += confusion_matrix[i, i]\n",
        "  error = 1 - pp_sum / np.sum(confusion_matrix)\n",
        "  #print(f'error rate = {100 * error:.1f}%')\n",
        "  return error"
      ],
      "metadata": {
        "id": "lym669dXgae2"
      },
      "execution_count": null,
      "outputs": []
    },
    {
      "cell_type": "code",
      "source": [
        "def cm_e_display(s,l,W):\n",
        "  predicted = predict(s,W)\n",
        "  actual = np.argmax(l, axis=1)\n",
        "\n",
        "  confusion_matrix = metrics.confusion_matrix(actual, predicted)\n",
        "  e = error_rate(confusion_matrix)\n",
        "  cm_display = metrics.ConfusionMatrixDisplay(confusion_matrix = confusion_matrix)\n",
        "  cm_display.plot()\n",
        "  if actual.shape[0] <  65 :\n",
        "      plt.title('Testing Confusion matrix')\n",
        "  else:\n",
        "      plt.title('Training Confusion matrix')\n",
        "\n",
        "  plt.show()\n",
        "  print(f'error rate = {100 * e:.1f}%')"
      ],
      "metadata": {
        "id": "M-1LFl3Gl-wE"
      },
      "execution_count": null,
      "outputs": []
    },
    {
      "cell_type": "code",
      "source": [
        "features, labels = import_data()\n",
        "\n",
        "train_sample = []\n",
        "test_sample = []\n",
        "\n",
        "train_label = []\n",
        "test_label = []\n",
        "\n",
        "train_sample.extend(features[0:30])\n",
        "train_sample.extend(features[50:80])\n",
        "train_sample.extend(features[100:130])\n",
        "\n",
        "test_sample.extend(features[30:50])\n",
        "test_sample.extend(features[80:100])\n",
        "test_sample.extend(features[130:150])\n",
        "\n",
        "train_label.extend(labels[0:30])\n",
        "train_label.extend(labels[50:80])\n",
        "train_label.extend(labels[100:130])\n",
        "\n",
        "test_label.extend(labels[30:50])\n",
        "test_label.extend(labels[80:100])\n",
        "test_label.extend(labels[130:150])\n",
        "\n",
        "t_l = np.stack(train_label)\n",
        "t_s = np.stack(train_sample)\n",
        "test_s = np.stack(test_sample)\n",
        "test_l = np.stack(test_label)\n",
        "\n",
        "mse_value, W =  (t_s, t_l)\n",
        "print(W)"
      ],
      "metadata": {
        "id": "Ebef3-Uj-mw8",
        "colab": {
          "base_uri": "https://localhost:8080/"
        },
        "outputId": "dfa4a84a-c170-4b8f-ee79-084c57454529"
      },
      "execution_count": null,
      "outputs": [
        {
          "output_type": "stream",
          "name": "stdout",
          "text": [
            "[[ 0.39064598  1.50732257 -2.25165604 -1.03725747  0.27496801]\n",
            " [ 1.3989633  -2.6662936  -0.06956884 -1.35028362  0.88490401]\n",
            " [-2.46961764 -2.01296706  3.58374136  2.9449683  -1.33004342]]\n"
          ]
        }
      ]
    },
    {
      "cell_type": "code",
      "source": [
        "cm_e_display(test_s,test_l,W)"
      ],
      "metadata": {
        "id": "2ha84wVwlx0A",
        "colab": {
          "base_uri": "https://localhost:8080/",
          "height": 489
        },
        "outputId": "42b329ef-adf2-4bc7-9718-98613a7f46e4"
      },
      "execution_count": null,
      "outputs": [
        {
          "output_type": "display_data",
          "data": {
            "text/plain": [
              "<Figure size 640x480 with 2 Axes>"
            ],
            "image/png": "[encoded data removed]"
          },
          "metadata": {}
        },
        {
          "output_type": "stream",
          "name": "stdout",
          "text": [
            "error rate = 5.0%\n"
          ]
        }
      ]
    },
    {
      "cell_type": "code",
      "source": [
        "cm_e_display(t_s,t_l,W)"
      ],
      "metadata": {
        "id": "A9dCrUrIixYA"
      },
      "execution_count": null,
      "outputs": []
    },
    {
      "cell_type": "markdown",
      "source": [
        "Part d: 20 first sampling and 30 last for training"
      ],
      "metadata": {
        "id": "lWU0uss6nEJi"
      }
    },
    {
      "cell_type": "code",
      "source": [
        "features, labels = import_data()\n",
        "\n",
        "tr_sample = []\n",
        "te_sample = []\n",
        "\n",
        "tr_label = []\n",
        "te_label = []\n",
        "\n",
        "tr_sample.extend(features[20:50])\n",
        "tr_sample.extend(features[70:100])\n",
        "tr_sample.extend(features[120:150])\n",
        "\n",
        "te_sample.extend(features[0:20])\n",
        "te_sample.extend(features[50:70])\n",
        "te_sample.extend(features[100:120])\n",
        "\n",
        "tr_label.extend(labels[20:50])\n",
        "tr_label.extend(labels[70:100])\n",
        "tr_label.extend(labels[120:150])\n",
        "\n",
        "te_label.extend(labels[0:20])\n",
        "te_label.extend(labels[50:70])\n",
        "te_label.extend(labels[100:120])\n",
        "\n",
        "t_l4 = np.stack(tr_label)\n",
        "t_s4 = np.stack(tr_sample)\n",
        "test_s4 = np.stack(te_sample)\n",
        "test_l4 = np.stack(te_label)\n",
        "\n",
        "mse_value4, W4 = linear_classifier(t_s, t_l)"
      ],
      "metadata": {
        "id": "UcmbyBmxjBF9"
      },
      "execution_count": null,
      "outputs": []
    },
    {
      "cell_type": "code",
      "source": [
        "cm_e_display(test_s4,test_l4,W4)"
      ],
      "metadata": {
        "id": "tErbvceEuAOj"
      },
      "execution_count": null,
      "outputs": []
    },
    {
      "cell_type": "code",
      "source": [
        "cm_e_display(t_s4,t_l4,W4)"
      ],
      "metadata": {
        "id": "jVinufn6oa3H"
      },
      "execution_count": null,
      "outputs": []
    },
    {
      "cell_type": "markdown",
      "source": [
        "# Part 2"
      ],
      "metadata": {
        "id": "ei5he6J9qEuK"
      }
    },
    {
      "cell_type": "code",
      "source": [
        "\n",
        "color_palette = ['#FF5733', '#33FF57', '#5733FF']\n",
        "\n",
        "# Define feature names\n",
        "feature_names = {\n",
        "    0: \"Petal Length\",\n",
        "    1: \"Petal Width\",\n",
        "    2: \"Sepal Length\",\n",
        "    3: \"Sepal Width\",\n",
        "    4: \"Extra 1 feature\"  # If you have an extra feature\n",
        "}\n",
        "# Plot histograms with KDE lines for each feature and species\n",
        "for i in range(features.shape[1]):\n",
        "    plt.figure()\n",
        "    for idx, (species, color) in enumerate(zip(class_mapping.keys(), color_palette)):\n",
        "        data = features[labels[:, class_mapping[species] == 1][:, 0] == 1, i]\n",
        "        sns.histplot(data, color=color, label=species, kde=True, alpha=0.7, stat='density')\n",
        "    plt.title(f'{feature_names[i]}')\n",
        "    plt.xlabel('Value')\n",
        "    plt.ylabel('Density')\n",
        "    plt.legend()\n",
        "    plt.show()"
      ],
      "metadata": {
        "id": "CRtdZPohqBkM"
      },
      "execution_count": null,
      "outputs": []
    },
    {
      "cell_type": "code",
      "source": [
        "ts_3f = np.delete(t_s, 1, 1)\n",
        "test_s_3f = np.delete(test_s, 1, 1)\n",
        "mse_value_3f, W3f = linear_classifier(ts_3f, t_l)"
      ],
      "metadata": {
        "id": "7DLG26m01FsO"
      },
      "execution_count": null,
      "outputs": []
    },
    {
      "cell_type": "code",
      "source": [
        "cm_e_display(test_s_3f,test_l,W3f)\n",
        "cm_e_display(ts_3f,t_l,W3f)"
      ],
      "metadata": {
        "id": "D2UlGbvp2X5j"
      },
      "execution_count": null,
      "outputs": []
    },
    {
      "cell_type": "markdown",
      "source": [
        "with 2 features"
      ],
      "metadata": {
        "id": "3Iul-sdo2_1N"
      }
    },
    {
      "cell_type": "code",
      "source": [
        "ts_2f = np.delete(ts_3f, 0, 1)\n",
        "test_s_2f = np.delete(test_s_3f, 0, 1)\n",
        "mse_value_2f, W2f = linear_classifier(ts_2f, t_l)"
      ],
      "metadata": {
        "id": "6fdgXrNy2_Sr"
      },
      "execution_count": null,
      "outputs": []
    },
    {
      "cell_type": "code",
      "source": [
        "cm_e_display(test_s_2f,test_l,W2f)\n",
        "cm_e_display(ts_2f,t_l,W2f)"
      ],
      "metadata": {
        "id": "3V4TaZq94i0w"
      },
      "execution_count": null,
      "outputs": []
    },
    {
      "cell_type": "markdown",
      "source": [
        "\n",
        "with 1 feature"
      ],
      "metadata": {
        "id": "GOfRk71O4rZU"
      }
    },
    {
      "cell_type": "code",
      "source": [
        "ts_1f = np.delete(ts_2f, 0, 1)\n",
        "test_s_1f = np.delete(test_s_2f, 0, 1)\n",
        "mse_value_1f, W1f = linear_classifier(ts_1f, t_l)"
      ],
      "metadata": {
        "id": "QxbrXCYr4q0l"
      },
      "execution_count": null,
      "outputs": []
    },
    {
      "cell_type": "code",
      "source": [
        "cm_e_display(test_s_1f,test_l,W1f)\n",
        "cm_e_display(ts_1f,t_l,W1f)"
      ],
      "metadata": {
        "id": "nLAoHCqJ44RS"
      },
      "execution_count": null,
      "outputs": []
    }
  ]
}
