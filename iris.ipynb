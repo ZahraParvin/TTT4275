{
 "cells": [
  {
   "cell_type": "code",
   "execution_count": 1,
   "id": "66272e18-fa24-451d-8446-64ea689b3a85",
   "metadata": {},
   "outputs": [],
   "source": [
    "import numpy as np\n",
    "import pandas as pd\n",
    "import matplotlib.pyplot as plt\n",
    "# from sklearn import datasets"
   ]
  },
  {
   "cell_type": "code",
   "execution_count": 2,
   "id": "af522bfe-f5c2-432b-88df-dfa284cc97d0",
   "metadata": {},
   "outputs": [],
   "source": [
    "def load_dataset():\n",
    "    data = pd.read_csv(\"Iris_TTT4275/iris.data\", header=None, names=['sepal_length', 'sepal_width', 'petal_length', 'petal_width', 'species'])\n",
    "    return data\n"
   ]
  },
  {
   "cell_type": "code",
   "execution_count": 3,
   "id": "4d29fe01-a9d8-4782-971d-98c66a4294e0",
   "metadata": {},
   "outputs": [],
   "source": [
    "def split_data_by_species():\n",
    "    data = load_dataset()\n",
    "    grouped_data = data.groupby('species')\n",
    "\n",
    "    species_data = {species: data for species, data in grouped_data}\n",
    "\n",
    "    return species_data\n"
   ]
  },
  {
   "cell_type": "code",
   "execution_count": 4,
   "id": "a44546c6-902c-4a5c-895c-f3aac52d1884",
   "metadata": {},
   "outputs": [
    {
     "name": "stdout",
     "output_type": "stream",
     "text": [
      "[6.3, 5.8, 7.1, 6.3, 6.5, 7.6, 4.9, 7.3, 6.7, 7.2, 6.5, 6.4, 6.8, 5.7, 5.8, 6.4, 6.5, 7.7, 7.7, 6.0, 6.9, 5.6, 7.7, 6.3, 6.7, 7.2, 6.2, 6.1, 6.4, 7.2, 7.4, 7.9, 6.4, 6.3, 6.1, 7.7, 6.3, 6.4, 6.0, 6.9, 6.7, 6.9, 5.8, 6.8, 6.7, 6.7, 6.3, 6.5, 6.2, 5.9]\n"
     ]
    }
   ],
   "source": [
    "species_data = split_data_by_species()\n",
    "\n",
    "print(species_data['Iris-virginica']['sepal_length'].tolist())"
   ]
  },
  {
   "cell_type": "code",
   "execution_count": null,
   "id": "76fc22bd-1cc6-41fc-814d-1f6c7b39697d",
   "metadata": {},
   "outputs": [],
   "source": []
  }
 ],
 "metadata": {
  "kernelspec": {
   "display_name": "Python 3 (ipykernel)",
   "language": "python",
   "name": "python3"
  },
  "language_info": {
   "codemirror_mode": {
    "name": "ipython",
    "version": 3
   },
   "file_extension": ".py",
   "mimetype": "text/x-python",
   "name": "python",
   "nbconvert_exporter": "python",
   "pygments_lexer": "ipython3",
   "version": "3.11.7"
  }
 },
 "nbformat": 4,
 "nbformat_minor": 5
}
